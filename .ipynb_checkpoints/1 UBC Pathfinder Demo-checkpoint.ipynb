{
 "cells": [
  {
   "cell_type": "code",
   "execution_count": 25,
   "id": "7ae8e35b-adc6-4b99-9505-8827ad6bb148",
   "metadata": {},
   "outputs": [],
   "source": [
    "import networkx as nx\n",
    "import matplotlib.pyplot as plt\n",
    "import pandas as pd\n",
    "import numpy as np\n",
    "import math\n",
    "import heapq\n",
    "import geopandas as gpd\n",
    "import plotly.graph_objects as go\n",
    "import copy\n",
    "import geopy\n",
    "import multiprocessing\n",
    "import geopy.distance\n",
    "\n",
    "from joblib import Parallel, delayed\n",
    "from scipy.optimize import linprog\n",
    "from collections import Counter"
   ]
  },
  {
   "cell_type": "markdown",
   "id": "2f9cafcb-ad22-4461-99b4-d882f07619ca",
   "metadata": {},
   "source": [
    "## Load the data into a dataframe:"
   ]
  },
  {
   "cell_type": "code",
   "execution_count": 3,
   "id": "d52226bf-3350-41b7-8900-fd2ee2e591e0",
   "metadata": {},
   "outputs": [],
   "source": [
    "roads_df = gpd.read_file('data/ubcv_roads_simple.geojson')\n",
    "\n",
    "buildings_df = pd.read_csv('data/ubcv_buildings_simple.csv')\n",
    "otherBuildings_df = pd.read_csv('data/ubcv_poi.csv')\n",
    "otherBuildings_df[\"BLDG_CODE\"] = otherBuildings_df[\"PLACENAME\"]\n",
    "\n",
    "df = pd.concat([roads_df, buildings_df], axis=0, ignore_index=True)\n",
    "buildings_df = buildings_df.drop(columns=[\"PRIMARY_ADDRESS\", \"POSTAL_CODE\", \"CONSTR_STATUS\", \"BLDG_USAGE\"])\n",
    "\n",
    "otherBuildings_df[\"NAME\"] = otherBuildings_df[\"PLACENAME\"]\n",
    "otherBuildings_df = otherBuildings_df.drop(columns=[\"BCN_CLASS\", \"BCN_LANDUSE\", \"BCN_CODE\", \"BCN_NOEMP\", \"LAST_EDITED_DATE\", \"LAST_EDITED_USER\", \"URL\", \"PHOTOURL\", \"SERVICE_TYPE\", \"BL_CLASS\", \"BL_NAME\", \"ABBREVIATEDPLACENAME\", \"PLACENAME2\", \"CREATED_USER\", \"LEED\", \"HTML\", \"STATUS\", \"MANAGE\", \"LICENSE\", \"HOURS\", \"PLACENAME\", \"CREATED_DATE\", \"CONTACT\", \"GLOBALID\"])\n",
    "\n",
    "buildings_df = pd.concat([buildings_df, otherBuildings_df], axis=0, ignore_index=True)\n",
    "buildings_df[\"IS_BUILDING\"] = True"
   ]
  },
  {
   "cell_type": "markdown",
   "id": "7e13fee3-6122-4a4e-8952-3adca94dbe6d",
   "metadata": {},
   "source": [
    "## Initialite the graph:"
   ]
  },
  {
   "cell_type": "code",
   "execution_count": 6,
   "id": "4262fab0-b4f1-4bf1-8da0-58980d85be43",
   "metadata": {},
   "outputs": [],
   "source": [
    "G = nx.Graph()\n",
    "for i in range(len(buildings_df)):\n",
    "    G.add_node(buildings_df[\"BLDG_CODE\"][i], pos=(-buildings_df[\"LONG\"][i], -buildings_df[\"LAT\"][i]))\n",
    "# pos = nx.get_node_attributes(G, 'pos')\n",
    "# nx.draw(G, pos, with_labels=True, node_size=50, font_size=8)\n"
   ]
  },
  {
   "cell_type": "markdown",
   "id": "d3931594-77f6-401d-a176-bc6bc15663ba",
   "metadata": {},
   "source": [
    "## Helper Functions to Construct the Graph"
   ]
  },
  {
   "cell_type": "code",
   "execution_count": 7,
   "id": "36b35d2a-e586-4343-8497-469de5530796",
   "metadata": {},
   "outputs": [],
   "source": [
    "def calculate_distance(pos1, pos2):\n",
    "    return math.sqrt((pos1[0] - pos2[0])**2 + (pos1[1] - pos2[1])**2)\n",
    "\n",
    "# Handle edge traces (list of traces or a single trace)\n",
    "def create_fig(edge_trace=[], node_trace=None, name=\"\", width=1200, height=1200):\n",
    "    data = []\n",
    "    if isinstance(edge_trace, list):\n",
    "        data.extend(edge_trace)\n",
    "    elif isinstance(edge_trace, (go.Scatter, go.Bar, go.Line)):\n",
    "        data.append(edge_trace)\n",
    "    else:\n",
    "        raise ValueError(\"edge_trace must be a list of traces or a single valid Plotly trace object.\")\n",
    "\n",
    "    # Handle node trace (single trace)\n",
    "    if isinstance(node_trace, (go.Scatter, go.Bar, go.Line)): \n",
    "        data.append(node_trace)  \n",
    "    elif node_trace is not None:\n",
    "        raise ValueError(\"node_trace must be a single valid Plotly trace object.\")\n",
    "\n",
    "    fig = go.Figure(data=data)\n",
    "\n",
    "    # Set layout for equal aspect ratio\n",
    "    fig.update_layout(\n",
    "        title=name,\n",
    "        showlegend=False,\n",
    "        xaxis=dict(showgrid=False, zeroline=False),\n",
    "        yaxis=dict(showgrid=False, zeroline=False),\n",
    "        template=\"plotly_white\",\n",
    "        width=width,  \n",
    "        height=height \n",
    "    )\n",
    "\n",
    "    # Make the x and y scales the same to avoid distortion\n",
    "    fig.update_xaxes(scaleanchor=\"y\", scaleratio=1)\n",
    "    fig.update_yaxes(scaleanchor=\"x\", scaleratio=1)\n",
    "\n",
    "    return fig\n",
    "\n",
    "def create_nodes(node_x, node_y, node_text, mode='markers', color = 'black'):\n",
    "    if color == 'black':\n",
    "        color = ['black'] * len(node_text)\n",
    "        \n",
    "    node_colors = [\n",
    "        'red' if color == 'red' else \n",
    "        ('black' if text not in buildings_df[\"BLDG_CODE\"].values else 'green')\n",
    "        for text, color in zip(node_text, color)\n",
    "    ]\n",
    "    node_trace = go.Scatter(\n",
    "        x=node_x,\n",
    "        y=node_y,\n",
    "        mode=mode,\n",
    "        marker=dict(\n",
    "            size=10,\n",
    "            color= node_colors,\n",
    "            line=dict(width=2, color=node_colors)\n",
    "        ),\n",
    "        text=node_text,\n",
    "        textposition=\"top center\",\n",
    "        hoverinfo='text'\n",
    "    )\n",
    "    return node_trace\n",
    "\n",
    "def create_edges(edge_x, edge_y, color='#888', width = 1):\n",
    "    edge_trace = go.Scatter(\n",
    "    x=edge_x,\n",
    "    y=edge_y,\n",
    "    line=dict(width=width, color=color),\n",
    "    hoverinfo='none',\n",
    "    mode='lines'\n",
    "    )\n",
    "    return edge_trace"
   ]
  },
  {
   "cell_type": "markdown",
   "id": "21a09a11-f422-4e99-80f9-3d390acff43b",
   "metadata": {},
   "source": [
    "## Create Building Graph:"
   ]
  },
  {
   "cell_type": "code",
   "execution_count": 9,
   "id": "6fd481a9-1830-469b-b0f4-1dcc1205df79",
   "metadata": {},
   "outputs": [],
   "source": [
    "building_G = nx.Graph()\n",
    "for i in range(len(buildings_df)):\n",
    "    building_G.add_node(\n",
    "        buildings_df[\"BLDG_CODE\"][i], \n",
    "        pos=(buildings_df[\"LAT\"][i], buildings_df[\"LONG\"][i])\n",
    "    )\n",
    "\n",
    "pos = nx.get_node_attributes(building_G, 'pos')\n",
    "node_x = [x for node, (x, y) in pos.items()]\n",
    "node_y = [y for node, (x, y) in pos.items()]\n",
    "node_text = [str(node) for node, (x, y) in pos.items()]\n",
    "\n",
    "edge_trace = create_edges([], [])    \n",
    "node_trace = create_nodes(node_x, node_y, node_text)\n",
    "fig = create_fig(edge_trace, node_trace, name = \"Building map, missing roads and edges\", width=800, height=1200)\n",
    "\n"
   ]
  },
  {
   "cell_type": "markdown",
   "id": "5f871fcd-ece9-4917-8860-dce39a4c86a2",
   "metadata": {},
   "source": [
    "## Create Road Graph:"
   ]
  },
  {
   "cell_type": "code",
   "execution_count": 10,
   "id": "d53fd447-464e-4d5a-93e7-8f031f13bb89",
   "metadata": {},
   "outputs": [],
   "source": [
    "roads_G = nx.Graph()\n",
    "listOfCoords = []\n",
    "\n",
    "# Add nodes with positions\n",
    "for i in range(len(roads_df)):\n",
    "    geometry = roads_df[\"geometry\"][i]\n",
    "    \n",
    "    if geometry.geom_type == \"LineString\":\n",
    "        # Iterate through coordinates in LineString\n",
    "        for j, (long, lat) in enumerate(geometry.coords):\n",
    "            if (long, lat) not in listOfCoords:\n",
    "                if long > -123.2277783865:\n",
    "                    continue\n",
    "                listOfCoords.append((long, lat))\n",
    "                name = roads_df[\"NAME\"][i] if \"NAME\" in roads_df.columns and pd.notna(roads_df[\"NAME\"][i]) else f\"road_{i}\"\n",
    "                node_id = name + f\"_point_{j}\"  \n",
    "                roads_G.add_node(\n",
    "                    node_id,\n",
    "                    pos=(long, lat)  # Add coordinates as positions\n",
    "                )\n",
    "    elif geometry.geom_type == \"MultiLineString\":\n",
    "        # Iterate through each LineString in MultiLineString\n",
    "        for j, line in enumerate(geometry.geoms):  # `geometry.geoms` gives LineString objects\n",
    "            for k, (long, lat) in enumerate(line.coords):\n",
    "                if (long, lat) not in listOfCoords:\n",
    "                    if long > -123.2277783865:\n",
    "                        continue\n",
    "                    listOfCoords.append((long, lat))\n",
    "                    name = roads_df[\"NAME\"][i] if \"NAME\" in roads_df.columns and pd.notna(roads_df[\"NAME\"][i]) else f\"road_{i}\"\n",
    "                    node_id = name + f\"_line_{j}_point_{k}\"\n",
    "                    roads_G.add_node(\n",
    "                        node_id,\n",
    "                        pos=(long, lat)  # Add coordinates as positions\n",
    "                    )\n",
    "\n",
    "pos = nx.get_node_attributes(roads_G, 'pos')\n",
    "\n",
    "node_x = [x for node, (x, y) in pos.items()]\n",
    "node_y = [y for node, (x, y) in pos.items()]\n",
    "node_text = [str(node) for node, (x, y) in pos.items()]\n",
    "\n",
    "edge_trace = create_edges([], [])\n",
    "node_trace = create_nodes(node_x, node_y, node_text)\n",
    "fig = create_fig(edge_trace, node_trace, name = \"Road map, missing buildings and edges\")"
   ]
  },
  {
   "cell_type": "markdown",
   "id": "79561c3e-3a67-42d7-b65f-7710b8cb77dd",
   "metadata": {},
   "source": [
    "## Merge the Buildings with the Roads Nexus (Preview):"
   ]
  },
  {
   "cell_type": "code",
   "execution_count": 15,
   "id": "7bda7842-f609-4029-8f35-0b04d972348f",
   "metadata": {},
   "outputs": [],
   "source": [
    "merged_G_noedges = nx.Graph()\n",
    "for node in roads_G.nodes(data=True):\n",
    "    merged_G_noedges.add_node(node[0], pos=node[1]['pos'])\n",
    "for node in building_G.nodes(data=True):\n",
    "    merged_G_noedges.add_node(node[0], pos=node[1]['pos'])\n",
    "pos = nx.get_node_attributes(merged_G_noedges, 'pos')\n",
    "node_x = [x for node, (x, y) in pos.items()]\n",
    "node_y = [y for node, (x, y) in pos.items()]\n",
    "node_text = [str(node) for node, (x, y) in pos.items()]\n",
    "edge_x = []\n",
    "edge_y = []\n",
    "edge_trace = create_edges(edge_x, edge_y)\n",
    "node_trace = create_nodes(node_x, node_y, node_text)\n",
    "#fig = create_fig(edge_trace, node_trace, name=\"Combined Building & Road Map, no edges\", width=800, height=1200)"
   ]
  },
  {
   "cell_type": "markdown",
   "id": "168c3803-bb2b-493d-aae9-82c79a31bd3a",
   "metadata": {},
   "source": [
    "## Creating Merged Graph Object (This will likely take a while):"
   ]
  },
  {
   "cell_type": "code",
   "execution_count": 17,
   "id": "90a8f6a1-a546-43de-ac33-badf8e6f5e7a",
   "metadata": {},
   "outputs": [],
   "source": [
    "merged_G = nx.Graph()\n",
    "\n",
    "for node, data in building_G.nodes(data=True):\n",
    "    merged_G.add_node(node, pos=data['pos'])\n",
    "\n",
    "for node, data in roads_G.nodes(data=True):\n",
    "    merged_G.add_node(node, pos=data['pos'])\n",
    "\n",
    "def calculate_distance(pos1, pos2):\n",
    "    pos1 = (pos1[1], pos1[0])\n",
    "    pos2 = (pos2[1], pos2[0])\n",
    "    return geopy.distance.geodesic(pos1, pos2).meters\n",
    "\n",
    "buildings = {node for node in merged_G.nodes() if node in buildings_df[\"BLDG_CODE\"].values}\n",
    "roads = {node for node in merged_G.nodes() if node not in buildings}\n",
    "\n",
    "NUM_CLOSEST_NODES = 3\n",
    "\n",
    "def closest_roads_for_building(building):\n",
    "    building_coord = merged_G.nodes[building]['pos']\n",
    "    distances = [\n",
    "        (building, road, calculate_distance(building_coord, merged_G.nodes[road]['pos']))\n",
    "        for road in roads\n",
    "    ]\n",
    "    distances.sort(key=lambda x: x[2])\n",
    "    return distances[:NUM_CLOSEST_NODES]\n",
    "\n",
    "building_edges = Parallel(n_jobs=-1)(delayed(closest_roads_for_building)(building) for building in buildings)\n",
    "\n",
    "for edges in building_edges:\n",
    "    for building, road, distance in edges:\n",
    "        merged_G.add_edge(building, road, weight=distance)\n",
    "\n",
    "def closest_nodes_for_road(road1):\n",
    "    road1_coord = merged_G.nodes[road1]['pos']\n",
    "    distances = [\n",
    "        (road1, node, calculate_distance(road1_coord, merged_G.nodes[node]['pos']))\n",
    "        for node in merged_G.nodes() if node != road1\n",
    "    ]\n",
    "    distances.sort(key=lambda x: x[2])\n",
    "    return distances[:NUM_CLOSEST_NODES]\n",
    "\n",
    "road_edges = Parallel(n_jobs=-1)(delayed(closest_nodes_for_road)(road1) for road1 in roads)\n",
    "\n",
    "for edges in road_edges:\n",
    "    for road1, node, distance in edges:\n",
    "        merged_G.add_edge(road1, node, weight=distance)\n",
    "\n",
    "for road in roads:\n",
    "    if \"line\" in road:  # Multiline string\n",
    "        roadName = road.split(\"_line_\")[0]\n",
    "        lineNum = int(road.split(\"_line_\")[1].split(\"_point_\")[0])\n",
    "        pointNum = int(road.split(\"_point_\")[1])\n",
    "        \n",
    "        if pointNum > 0:\n",
    "            prev_point_label = f\"{roadName}_line_{lineNum}_point_{pointNum - 1}\"\n",
    "            if prev_point_label in roads:  # Check existence\n",
    "                weight = calculate_distance(\n",
    "                    merged_G.nodes[road]['pos'], merged_G.nodes[prev_point_label]['pos']\n",
    "                )\n",
    "                merged_G.add_edge(road, prev_point_label, weight=weight)\n",
    "\n",
    "        next_point_label = f\"{roadName}_line_{lineNum}_point_{pointNum + 1}\"\n",
    "        if next_point_label in roads: \n",
    "            weight = calculate_distance(\n",
    "                merged_G.nodes[road]['pos'], merged_G.nodes[next_point_label]['pos']\n",
    "            )\n",
    "            merged_G.add_edge(road, next_point_label, weight=weight)\n",
    "    \n",
    "    else:  # Single line string\n",
    "        roadName = road.split(\"_point_\")[0]\n",
    "        split_road = road.split(\"_point_\")\n",
    "        if len(split_road) > 1:\n",
    "            pointNum = int(split_road[1])\n",
    "        else:\n",
    "            continue\n",
    "        \n",
    "        if pointNum > 0:\n",
    "            prev_point_label = f\"{roadName}_point_{pointNum - 1}\"\n",
    "            if prev_point_label in roads:  # Check existence\n",
    "                weight = calculate_distance(\n",
    "                    merged_G.nodes[road]['pos'], merged_G.nodes[prev_point_label]['pos']\n",
    "                )\n",
    "                merged_G.add_edge(road, prev_point_label, weight=weight)\n",
    "\n",
    "        next_point_label = f\"{roadName}_point_{pointNum + 1}\"\n",
    "        if next_point_label in roads:\n",
    "            weight = calculate_distance(\n",
    "                merged_G.nodes[road]['pos'], merged_G.nodes[next_point_label]['pos']\n",
    "            )\n",
    "            merged_G.add_edge(road, next_point_label, weight=weight)"
   ]
  },
  {
   "cell_type": "markdown",
   "id": "7a7ffe6c-751a-4ac8-8536-31d322637eb5",
   "metadata": {},
   "source": [
    "## Visualize the Merged Graph (Don't run it if you don't want to wait):"
   ]
  },
  {
   "cell_type": "code",
   "execution_count": null,
   "id": "cea43f03-2a62-4598-b44a-51dd034df086",
   "metadata": {},
   "outputs": [],
   "source": [
    "combined_pos = nx.get_node_attributes(merged_G, 'pos')\n",
    "\n",
    "node_x = [x for node, (x, y) in combined_pos.items()]\n",
    "node_y = [y for node, (x, y) in combined_pos.items()]\n",
    "node_text = [str(node) for node, (x, y) in combined_pos.items()]\n",
    "\n",
    "edge_x = []\n",
    "edge_y = []\n",
    "for edge in merged_G.edges(data=True):\n",
    "    x0, y0 = combined_pos[edge[0]]\n",
    "    x1, y1 = combined_pos[edge[1]]\n",
    "    edge_x.extend([x0, x1, None])\n",
    "    edge_y.extend([y0, y1, None])\n",
    "\n",
    "node_trace = create_nodes(node_x, node_y, node_text)\n",
    "edge_trace = create_edges(edge_x, edge_y)\n",
    "merged_fig = create_fig(edge_trace, node_trace, name=\"Merged Graph with Edges\", width=800, height=1200)\n",
    "\n",
    "merged_fig.show()"
   ]
  },
  {
   "cell_type": "markdown",
   "id": "5c5fcd54-36c2-4f1d-8654-5df208f6f9d6",
   "metadata": {},
   "source": [
    "## Function Implementation of Shortest Path Solved as LP Problem:"
   ]
  },
  {
   "cell_type": "code",
   "execution_count": 23,
   "id": "57842bca-1940-42c5-bdf3-b082a9d2b25d",
   "metadata": {},
   "outputs": [],
   "source": [
    "A = nx.incidence_matrix(merged_G,oriented=True).toarray()\n",
    "A_shape1 = A.shape[1]\n",
    "test_A = copy.deepcopy(A)\n",
    "test_A = np.append(test_A, np.zeros((test_A.shape[0], test_A.shape[1])), axis=1)\n",
    "for i in range(test_A.shape[0]):\n",
    "    for j in range(A_shape1):\n",
    "        if test_A[i][j] == 1: \n",
    "            test_A[i][j+A_shape1] = -1\n",
    "        elif test_A[i][j] == -1:\n",
    "            test_A[i][j+A_shape1] = 1\n",
    "        else:\n",
    "            test_A[i][j+A_shape1] = 0\n",
    "\n",
    "# This return an optimal binary vector which is multiple the incident matrix will return path\n",
    "def shortest_path_linear(building_o, building_d): \n",
    "\n",
    "    u_ij=1 #capacity of each edge\n",
    "\n",
    "    b = np.zeros(len(nodes))\n",
    "    b[nodes.index(building_o)] = 1\n",
    "    b[nodes.index(building_d)] = -1\n",
    "\n",
    "        \n",
    "    c1=list(nx.get_edge_attributes(merged_G, 'weight').values()) #distance of each edge\n",
    "    c=c1+c1 #distance of each edge in both directions\n",
    "\n",
    "    result=linprog(c, A_eq=test_A, b_eq=b,bounds=(0, u_ij),method='highs') #highs is the faster version of simplex\n",
    "    print(\"The shortest path is: \", result.x, \"with a distance of:\", result.fun)\n",
    "\n",
    "# This return an list of edges, use this if you are implementing other stuff\n",
    "def shortest_path_linear_return_edges(building_o, building_d):  \n",
    "    global merged_G, test_A \n",
    "    u_ij = 1 \n",
    "    nodes = list(merged_G.nodes)  \n",
    "    edges = list(merged_G.edges)  \n",
    "    b = np.zeros(len(nodes))\n",
    "    b[nodes.index(building_o)] = 1\n",
    "    b[nodes.index(building_d)] = -1\n",
    "    c1 = list(nx.get_edge_attributes(merged_G, 'weight').values())  # Distance of each edge\n",
    "    c = c1 + c1\n",
    "    result = linprog(c, A_eq=test_A, b_eq=b, bounds=(0, u_ij), method='highs') \n",
    "    path_edges = [edges[i] for i, x in enumerate(result.x[:len(edges)]) if x > 0.5]  # Threshold to filter selected edges\n",
    "    \n",
    "    return path_edges"
   ]
  },
  {
   "cell_type": "code",
   "execution_count": 24,
   "id": "15105559-4452-4df4-84b8-a92dbe991578",
   "metadata": {},
   "outputs": [
    {
     "data": {
      "text/plain": [
       "[('LSK', 'Sauder Ln_point_5'),\n",
       " ('The Bike Kitchen', 'road_37_point_2'),\n",
       " (\"Triple O's\", 'Fire Access Ln_point_2'),\n",
       " ('Chemistry North Wing - Block E', 'Volkoff Ln_point_1'),\n",
       " ('Fire Access Ln_point_2', 'Agricultural Rd_point_4')]"
      ]
     },
     "execution_count": 24,
     "metadata": {},
     "output_type": "execute_result"
    }
   ],
   "source": [
    "sstuff = shortest_path_linear_return_edges(\"SRC\", \"LSK\")\n",
    "sstuff"
   ]
  },
  {
   "cell_type": "markdown",
   "id": "a2d29811-3111-4357-926b-ea4606e66a1c",
   "metadata": {},
   "source": [
    "## Heuristic Approach for Optimal Meeting Point:"
   ]
  },
  {
   "cell_type": "code",
   "execution_count": 34,
   "id": "7c1124e3-fa71-45a4-84cc-fba92ce94892",
   "metadata": {},
   "outputs": [],
   "source": [
    "# This one return any node as long as it is most visited \n",
    "def heuristic_meeting_point_lp(station_list):\n",
    "    global merged_G \n",
    "    visited_nodes = [] \n",
    "    for i in range(len(station_list)):\n",
    "        for j in range(i + 1, len(station_list)):\n",
    "            path_edges = shortest_path_linear_return_edges(station_list[i], station_list[j])\n",
    "            if path_edges:\n",
    "                for edge in path_edges:\n",
    "                    visited_nodes.extend(edge)\n",
    "\n",
    "    node_counts = Counter(visited_nodes)\n",
    "\n",
    "    heuristic_middle = max(node_counts, key=node_counts.get)\n",
    "\n",
    "    print(\"Most visited node (heuristic meeting point):\", heuristic_middle)\n",
    "    return heuristic_middle\n",
    "\n",
    "# This one only return most visited building node\n",
    "def heuristic_meeting_point_building_lp(station_list):\n",
    "    global merged_G, buildings  \n",
    "    \n",
    "    visited_nodes = [] \n",
    "    for i in range(len(station_list)):\n",
    "        for j in range(i + 1, len(station_list)): \n",
    "            path_edges = shortest_path_linear_return_edges(station_list[i], station_list[j])\n",
    "            if path_edges:\n",
    "                for edge in path_edges:\n",
    "                    visited_nodes.extend(edge)  \n",
    "    node_counts = Counter(visited_nodes)\n",
    "\n",
    "    for node, _ in node_counts.most_common():  \n",
    "        if node in buildings:  \n",
    "            print(\"Most visited building (heuristic meeting point):\", node)\n",
    "            return node\n",
    "\n",
    "    print(\"No valid building found. Returning None.\")\n",
    "    return None"
   ]
  },
  {
   "cell_type": "code",
   "execution_count": 36,
   "id": "7febb512-cb98-4139-884a-28a0c2e27864",
   "metadata": {},
   "outputs": [
    {
     "name": "stdout",
     "output_type": "stream",
     "text": [
      "Most visited building (heuristic meeting point): TENN\n"
     ]
    },
    {
     "data": {
      "text/plain": [
       "'TENN'"
      ]
     },
     "execution_count": 36,
     "metadata": {},
     "output_type": "execute_result"
    }
   ],
   "source": [
    "source_nodes = [\"LSK\", \"NEST\", \"MCLD\", \"UBC Studios\", \"CRSW\", \"OSB1\", \"SAG2\"]\n",
    "heuristic_meeting_point_building_lp(source_nodes)"
   ]
  },
  {
   "cell_type": "code",
   "execution_count": null,
   "id": "3439ae07-a470-48d1-ba6c-698285b003da",
   "metadata": {},
   "outputs": [],
   "source": []
  }
 ],
 "metadata": {
  "kernelspec": {
   "display_name": "Python 3 (ipykernel)",
   "language": "python",
   "name": "python3"
  },
  "language_info": {
   "codemirror_mode": {
    "name": "ipython",
    "version": 3
   },
   "file_extension": ".py",
   "mimetype": "text/x-python",
   "name": "python",
   "nbconvert_exporter": "python",
   "pygments_lexer": "ipython3",
   "version": "3.13.0"
  }
 },
 "nbformat": 4,
 "nbformat_minor": 5
}
